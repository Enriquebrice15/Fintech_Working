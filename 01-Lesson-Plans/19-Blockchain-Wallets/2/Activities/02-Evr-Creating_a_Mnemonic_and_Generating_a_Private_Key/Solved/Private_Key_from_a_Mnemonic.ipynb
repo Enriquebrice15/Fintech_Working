{
 "cells": [
  {
   "cell_type": "code",
   "execution_count": 1,
   "metadata": {},
   "outputs": [],
   "source": [
    "# Imports\n",
    "import os\n",
    "from dotenv import load_dotenv\n",
    "load_dotenv(\"SAMPLE.env\")\n",
    "from mnemonic import Mnemonic\n",
    "from bip44 import Wallet\n",
    "from web3 import Account"
   ]
  },
  {
   "cell_type": "code",
   "execution_count": 9,
   "metadata": {},
   "outputs": [
    {
     "data": {
      "text/plain": [
       "'YOUR MNEMONIC SEED PHRASE HERE'"
      ]
     },
     "metadata": {},
     "output_type": "display_data"
    }
   ],
   "source": [
    "# Load the value of the MNEMONIC variable from the .env file\n",
    "mnemonic = os.getenv(\"MNEMONIC\")\n",
    "\n",
    "# Evaluate the contents of the mnemonic variable\n",
    "# Create a new mnemonic seed phrase if the value of mnemonic equals None\n",
    "if mnemonic is None:\n",
    "  mnemo = Mnemonic(\"english\")   \n",
    "  mnemonic = mnemo.generate(strength=128)\n",
    "\n",
    "# Display the value of the mnemonic variable\n",
    "display(mnemonic)"
   ]
  },
  {
   "cell_type": "code",
   "execution_count": 10,
   "metadata": {},
   "outputs": [
    {
     "data": {
      "text/plain": [
       "<bip44.wallet.Wallet at 0x7f9bd8032b50>"
      ]
     },
     "execution_count": 10,
     "metadata": {},
     "output_type": "execute_result"
    }
   ],
   "source": [
    "wallet = Wallet(mnemonic)\n",
    "wallet"
   ]
  },
  {
   "cell_type": "code",
   "execution_count": 11,
   "metadata": {},
   "outputs": [
    {
     "data": {
      "text/plain": [
       "b'\"\\xe6$\\xd9fv:\\xf7\\x19\\xb8\\xb6\\xd0\\xd1\\x0b\\x8dq\\x9b\\xa1@\\xb9\\xcf\\xf4\\x89\\xfa<\\xfc\\xd0\\xdbb\\x9b\\x87\\xef'"
      ]
     },
     "execution_count": 11,
     "metadata": {},
     "output_type": "execute_result"
    }
   ],
   "source": [
    "# Create the public and private keys associated with a new Ethereum account\n",
    "private, public = wallet.derive_account(\"eth\")\n",
    "\n",
    "# Display the private key\n",
    "private"
   ]
  },
  {
   "cell_type": "code",
   "execution_count": 12,
   "metadata": {},
   "outputs": [],
   "source": [
    "account = Account.privateKeyToAccount(private)"
   ]
  },
  {
   "cell_type": "code",
   "execution_count": 13,
   "metadata": {},
   "outputs": [
    {
     "name": "stdout",
     "output_type": "stream",
     "text": [
      "<eth_account.signers.local.LocalAccount object at 0x7f9bd8056650>\n"
     ]
    }
   ],
   "source": [
    "print(account)"
   ]
  },
  {
   "cell_type": "code",
   "execution_count": 14,
   "metadata": {},
   "outputs": [
    {
     "name": "stdout",
     "output_type": "stream",
     "text": [
      "0x23Ed378A954Fe4fdAB89d8Ae23D932F2A61EB265\n"
     ]
    }
   ],
   "source": [
    "print(account.address)"
   ]
  },
  {
   "cell_type": "code",
   "execution_count": 15,
   "metadata": {},
   "outputs": [
    {
     "data": {
      "text/plain": [
       "HexBytes('0x22e624d966763af719b8b6d0d10b8d719ba140b9cff489fa3cfcd0db629b87ef')"
      ]
     },
     "execution_count": 15,
     "metadata": {},
     "output_type": "execute_result"
    }
   ],
   "source": [
    "account.privateKey"
   ]
  },
  {
   "cell_type": "code",
   "execution_count": null,
   "metadata": {},
   "outputs": [],
   "source": []
  },
  {
   "cell_type": "code",
   "execution_count": null,
   "metadata": {},
   "outputs": [],
   "source": []
  },
  {
   "cell_type": "code",
   "execution_count": null,
   "metadata": {},
   "outputs": [],
   "source": []
  }
 ],
 "metadata": {
  "kernelspec": {
   "display_name": "Python 3 (ipykernel)",
   "language": "python",
   "name": "python3"
  },
  "language_info": {
   "codemirror_mode": {
    "name": "ipython",
    "version": 3
   },
   "file_extension": ".py",
   "mimetype": "text/x-python",
   "name": "python",
   "nbconvert_exporter": "python",
   "pygments_lexer": "ipython3",
   "version": "3.7.11"
  }
 },
 "nbformat": 4,
 "nbformat_minor": 4
}
